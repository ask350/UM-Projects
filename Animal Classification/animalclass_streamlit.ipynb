{
  "nbformat": 4,
  "nbformat_minor": 0,
  "metadata": {
    "colab": {
      "provenance": [],
      "authorship_tag": "ABX9TyMNPKwXSljnlzfVbyZ6V2eM",
      "include_colab_link": true
    },
    "kernelspec": {
      "name": "python3",
      "display_name": "Python 3"
    },
    "language_info": {
      "name": "python"
    }
  },
  "cells": [
    {
      "cell_type": "markdown",
      "metadata": {
        "id": "view-in-github",
        "colab_type": "text"
      },
      "source": [
        "<a href=\"https://colab.research.google.com/github/ask350/UM-Projects/blob/main/Animal%20Classification/animalclass_streamlit.ipynb\" target=\"_parent\"><img src=\"https://colab.research.google.com/assets/colab-badge.svg\" alt=\"Open In Colab\"/></a>"
      ]
    },
    {
      "cell_type": "code",
      "execution_count": null,
      "metadata": {
        "id": "3JG44HdlXGPV"
      },
      "outputs": [],
      "source": [
        "# Animal Classification Streamlit App\n",
        "\n",
        "import streamlit as st\n",
        "import tensorflow as tf\n",
        "import numpy as np\n",
        "from tensorflow.keras.preprocessing import image\n",
        "from PIL import Image\n",
        "import json\n",
        "import os\n",
        "\n",
        "# Load model and class labels\n",
        "model = tf.keras.models.load_model(\"animal_classifier_model.keras\")\n",
        "with open(\"class_names.txt\", \"r\") as f:\n",
        "    class_names = json.load(f)\n",
        "\n",
        "st.title(\"🐾 Animal Image Classifier\")\n",
        "st.markdown(\"Upload an image or select one to classify.\")\n",
        "\n",
        "# Show supported animal classes\n",
        "st.markdown(\"Supported Animal Classes:\")\n",
        "st.markdown(\", \".join(class_names))"
      ]
    },
    {
      "cell_type": "code",
      "source": [
        "# Upload or Choose Sample Image\n",
        "upload_option = st.radio(\"Choose image source:\", (\"Upload\", \"Sample images\"))\n",
        "\n",
        "img = None  # Initialize\n",
        "\n",
        "if upload_option == \"Upload\":\n",
        "    uploaded_file = st.file_uploader(\"Upload an image\", type=[\"jpg\", \"jpeg\", \"png\"])\n",
        "    if uploaded_file:\n",
        "        img = Image.open(uploaded_file).convert(\"RGB\")\n",
        "else:\n",
        "    # Sample image directory (you must add some sample images in a folder)\n",
        "    sample_dir = \"test_images\"\n",
        "    if os.path.exists(sample_dir):\n",
        "        sample_files = [f for f in os.listdir(sample_dir) if f.lower().endswith((\".jpg\", \".jpeg\", \".png\"))]\n",
        "        selected_image = st.selectbox(\"Choose a sample image\", sample_files)\n",
        "        if selected_image:\n",
        "            img = Image.open(os.path.join(sample_dir, selected_image)).convert(\"RGB\")\n",
        "    else:\n",
        "        st.warning(\"Sample image folder not found.\")\n"
      ],
      "metadata": {
        "id": "xQ1d3fRsX01h"
      },
      "execution_count": null,
      "outputs": []
    },
    {
      "cell_type": "code",
      "source": [
        "# Show image preview\n",
        "if img:\n",
        "    st.image(img, caption=\"Selected Image\", use_column_width=True)\n",
        "\n",
        "# Predict button\n",
        "if st.button(\"Classify\") and img:\n",
        "    # Preprocess\n",
        "    img_resized = img.resize((224, 224))\n",
        "    img_array = image.img_to_array(img_resized) / 255.0\n",
        "    img_array = np.expand_dims(img_array, axis=0)\n",
        "\n",
        "    # Predict\n",
        "    prediction = model.predict(img_array)\n",
        "    predicted_class = class_names[np.argmax(prediction)]\n",
        "    confidence = np.max(prediction)\n",
        "\n",
        "    # Show result\n",
        "    st.subheader(f\"Prediction: **{predicted_class}**\")\n",
        "    st.write(f\"Confidence: `{confidence*100:.2f}%`\")"
      ],
      "metadata": {
        "id": "Zl1W7hI7YH7d"
      },
      "execution_count": null,
      "outputs": []
    }
  ]
}